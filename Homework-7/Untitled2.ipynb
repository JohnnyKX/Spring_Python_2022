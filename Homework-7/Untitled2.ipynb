{
  "nbformat": 4,
  "nbformat_minor": 0,
  "metadata": {
    "colab": {
      "name": "Untitled2.ipynb",
      "provenance": []
    },
    "kernelspec": {
      "name": "python3",
      "display_name": "Python 3"
    },
    "language_info": {
      "name": "python"
    }
  },
  "cells": [
    {
      "cell_type": "markdown",
      "source": [
        "# Ширинбеков Руслан \n",
        "НПМбд-01-19"
      ],
      "metadata": {
        "id": "unx_Ugy4R_DQ"
      }
    },
    {
      "cell_type": "markdown",
      "source": [
        "Четные индексы"
      ],
      "metadata": {
        "id": "qhiXdFfkSIYl"
      }
    },
    {
      "cell_type": "code",
      "source": [
        "print(' '.join(input().split()[::2]))"
      ],
      "metadata": {
        "colab": {
          "base_uri": "https://localhost:8080/"
        },
        "id": "0g3S5RF9SMMh",
        "outputId": "31c15491-c4c0-4ce2-ea24-e101fb505c6d"
      },
      "execution_count": 11,
      "outputs": [
        {
          "output_type": "stream",
          "name": "stdout",
          "text": [
            "1 2 3 4 5\n",
            "1 3 5\n"
          ]
        }
      ]
    },
    {
      "cell_type": "markdown",
      "source": [
        "Наибольший элемент и его индекс"
      ],
      "metadata": {
        "id": "AFltC2NJSZWf"
      }
    },
    {
      "cell_type": "code",
      "source": [
        "С = list(map(int, input().split()))\n",
        "print(max(С), С.index(max(С)))"
      ],
      "metadata": {
        "colab": {
          "base_uri": "https://localhost:8080/"
        },
        "id": "vflh9HLnSc7V",
        "outputId": "7d6a2092-3ce8-46b2-8a31-32bcaf3cca5f"
      },
      "execution_count": 7,
      "outputs": [
        {
          "output_type": "stream",
          "name": "stdout",
          "text": [
            "1 2 3 4 5\n",
            "5 4\n"
          ]
        }
      ]
    },
    {
      "cell_type": "markdown",
      "source": [
        "Вывести в обратном порядке"
      ],
      "metadata": {
        "id": "WcQpj1vqSg_B"
      }
    },
    {
      "cell_type": "code",
      "source": [
        "print(' '.join(input().split()[::-1]))"
      ],
      "metadata": {
        "colab": {
          "base_uri": "https://localhost:8080/"
        },
        "id": "EB872atVSiLE",
        "outputId": "71b329ad-0625-4a69-a6d0-0cb3abff29d4"
      },
      "execution_count": 3,
      "outputs": [
        {
          "output_type": "stream",
          "name": "stdout",
          "text": [
            "1 2 3 4 5\n",
            "5 4 3 2 1\n"
          ]
        }
      ]
    },
    {
      "cell_type": "markdown",
      "source": [
        "Циклический сдвиг вправо"
      ],
      "metadata": {
        "id": "2y4sSe_dSlvx"
      }
    },
    {
      "cell_type": "code",
      "source": [
        "С = input().split()\n",
        "print(' '.join(С[1:]), С[0])"
      ],
      "metadata": {
        "colab": {
          "base_uri": "https://localhost:8080/"
        },
        "id": "P7eeYLoVSm_8",
        "outputId": "e31be37d-5547-4b26-c15f-3e4f3486990e"
      },
      "execution_count": 8,
      "outputs": [
        {
          "output_type": "stream",
          "name": "stdout",
          "text": [
            "1 2 3 4 5\n",
            "2 3 4 5 1\n"
          ]
        }
      ]
    },
    {
      "cell_type": "markdown",
      "source": [
        "Удалить элемент"
      ],
      "metadata": {
        "id": "ckIyNmQtTH7J"
      }
    },
    {
      "cell_type": "code",
      "source": [
        "C = input().split()\n",
        "n = int(input())\n",
        "print(' '.join(C[:n] + C[n+1:]))]"
      ],
      "metadata": {
        "colab": {
          "base_uri": "https://localhost:8080/"
        },
        "id": "Fp5kshTqTJA4",
        "outputId": "5a41b756-ffbe-4b03-b5c0-6ac0d650a20d"
      },
      "execution_count": 10,
      "outputs": [
        {
          "output_type": "stream",
          "name": "stdout",
          "text": [
            "1 2 3 4 5\n",
            "2\n",
            "1 2 4 5\n"
          ]
        }
      ]
    },
    {
      "cell_type": "markdown",
      "source": [
        "Вставить элемент"
      ],
      "metadata": {
        "id": "wCRlRD-cTaoW"
      }
    },
    {
      "cell_type": "code",
      "source": [
        "C = input().split()\n",
        "n, elem = map(int, input().split())\n",
        "print(' '.join(C[:n]), elem, ' '.join(C[n:]))"
      ],
      "metadata": {
        "colab": {
          "base_uri": "https://localhost:8080/"
        },
        "id": "Cpy4yC5mTbUP",
        "outputId": "71f810c4-c715-41c7-e57e-a2cc018e1c90"
      },
      "execution_count": 13,
      "outputs": [
        {
          "output_type": "stream",
          "name": "stdout",
          "text": [
            "1 2 3 4 5\n",
            "3 0\n",
            "1 2 3 0 4 5\n"
          ]
        }
      ]
    },
    {
      "cell_type": "markdown",
      "source": [
        "Большой сдвиг"
      ],
      "metadata": {
        "id": "AlOX2bWGTgwC"
      }
    },
    {
      "cell_type": "code",
      "source": [
        "C, n = input().split(), int(input())\n",
        "print(' '.join(C[n-1:] + C[:n-1]))"
      ],
      "metadata": {
        "colab": {
          "base_uri": "https://localhost:8080/"
        },
        "id": "8eyUmNEAThIm",
        "outputId": "22df2301-794b-419c-82f1-7c3018a962d1"
      },
      "execution_count": 14,
      "outputs": [
        {
          "output_type": "stream",
          "name": "stdout",
          "text": [
            "1 2 3 4 5\n",
            "3\n",
            "3 4 5 1 2\n"
          ]
        }
      ]
    }
  ]
}